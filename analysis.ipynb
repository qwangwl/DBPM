{
 "cells": [
  {
   "cell_type": "code",
   "execution_count": 1,
   "id": "73506129",
   "metadata": {},
   "outputs": [],
   "source": [
    "# -*- encoding: utf-8 -*-\n",
    "'''\n",
    "file       :analysis.ipynb\n",
    "Date       :2025/10/14 11:24:16\n",
    "Email      :qiang.wang@stu.xidian.edu.cn\n",
    "Author     :qwangxdu\n",
    "'''\n",
    "\n",
    "import random\n",
    "import numpy as np\n",
    "import matplotlib.pyplot as plt\n",
    "import seaborn as sns\n",
    "sns.set_theme(style=\"white\", context=\"paper\", palette=\"muted\", rc={\"font.family\": \"Times New Roman\"})\n",
    "plt.rcParams['font.family'] = 'Times New Roman'\n",
    "import torch\n",
    "from sklearn import preprocessing\n",
    "from sklearn.manifold import TSNE\n",
    "\n",
    "from datasets import SEEDFeatureDataset, SEEDIVFeatureDataset\n",
    "\n",
    "def setup_seed(seed):  ## setup the random seed\n",
    "    torch.manual_seed(seed)\n",
    "    if torch.cuda.is_available():\n",
    "        torch.cuda.manual_seed(seed)\n",
    "        torch.cuda.manual_seed_all(seed)  # if you are using multi-GPU.\n",
    "    np.random.seed(seed)  # Numpy module.\n",
    "    random.seed(seed)  # Python random module.\n",
    "    torch.backends.cudnn.benchmark = False\n",
    "    torch.backends.cudnn.deterministic = True\n",
    "setup_seed(20)"
   ]
  },
  {
   "cell_type": "code",
   "execution_count": 97,
   "id": "05c7b053",
   "metadata": {},
   "outputs": [],
   "source": [
    "data_path = \"E:\\\\EEG_DataSets\\\\SEED\\\\ExtractedFeatures\\\\\"\n",
    "seed3_x, seed3_y, seed3_g = SEEDFeatureDataset(data_path).data()\n",
    "seed3_y += 1\n",
    "seed3_x = seed3_x.reshape(-1, 310)\n",
    "seed3_t = seed3_g[:, 2]\n",
    "seed3_s = seed3_g[:, 1]\n",
    "\n",
    "seed4_path = \"E:\\\\EEG_DataSets\\\\SEED_IV\\\\eeg_feature_smooth\\\\\"\n",
    "seed4_x, seed4_y, seed4_g = SEEDIVFeatureDataset(seed4_path).data()\n",
    "seed4_x = seed4_x.reshape(-1, 310)\n",
    "seed4_t = seed4_g[:, 2]\n",
    "seed4_s = seed4_g[:, 1]\n",
    "\n",
    "min_max_scaler = preprocessing.MinMaxScaler(feature_range=(-1, 1))\n",
    "for i in np.unique(seed4_s):\n",
    "    seed4_x[seed4_s == i] = min_max_scaler.fit_transform(seed4_x[seed4_s == i])\n",
    "\n",
    "min_max_scaler = preprocessing.MinMaxScaler(feature_range=(-1, 1))\n",
    "for i in np.unique(seed3_s):\n",
    "    seed3_x[seed3_s == i] = min_max_scaler.fit_transform(seed3_x[seed3_s == i])"
   ]
  },
  {
   "cell_type": "code",
   "execution_count": 98,
   "id": "425d9a42",
   "metadata": {},
   "outputs": [],
   "source": [
    "# For SEED session 1 subject 1\n",
    "seed3_sub1_x = seed3_x[seed3_s == 1]\n",
    "seed3_sub1_y = seed3_y[seed3_s == 1]\n",
    "seed3_sub1_t = seed3_t[seed3_s == 1]\n",
    "\n",
    "# For SEED-IV session 1 subject 5\n",
    "seed4_sub5_x = seed4_x[seed4_s == 5]\n",
    "seed4_sub5_y = seed4_y[seed4_s == 5]\n",
    "seed4_sub5_t = seed4_t[seed4_s == 5]"
   ]
  },
  {
   "cell_type": "code",
   "execution_count": 99,
   "id": "8a6f03e7",
   "metadata": {},
   "outputs": [],
   "source": [
    "def t_sne(x):\n",
    "    tsne = TSNE(n_components=2, random_state=20)\n",
    "    x_tsne = tsne.fit_transform(x)\n",
    "    return x_tsne"
   ]
  },
  {
   "cell_type": "code",
   "execution_count": 100,
   "id": "88ecdc1e",
   "metadata": {},
   "outputs": [],
   "source": [
    "seed3 = t_sne(seed3_sub1_x)\n",
    "seed4 = t_sne(seed4_sub5_x)"
   ]
  },
  {
   "cell_type": "code",
   "execution_count": 109,
   "id": "152f8491",
   "metadata": {},
   "outputs": [],
   "source": [
    "# Only Positive samples\n",
    "seed3_y1_x = seed3[seed3_sub1_y == 1]\n",
    "seed4_y0_x = seed4[seed4_sub5_y == 0]\n",
    "seed3_y1_t = seed3_sub1_t[seed3_sub1_y == 1]\n",
    "seed4_y0_t = seed4_sub5_t[seed4_sub5_y == 0]"
   ]
  },
  {
   "cell_type": "code",
   "execution_count": 110,
   "id": "34521430",
   "metadata": {},
   "outputs": [],
   "source": [
    "def sample_indices(data, ratio=0.2, random_state=42):\n",
    "    np.random.seed(random_state)\n",
    "    N = len(data)\n",
    "    sample_size = int(N * ratio)\n",
    "    sampled_idx = np.random.choice(np.arange(N), sample_size, replace=False)\n",
    "    return sampled_idx\n",
    "sampled_idx_seed3_y1 = sample_indices(seed3_y1_x, ratio=0.2, random_state=42)\n",
    "seed3_y1_x_sample = seed3_y1_x[sampled_idx_seed3_y1]\n",
    "seed3_y1_t_sample = seed3_y1_t[sampled_idx_seed3_y1]\n",
    "\n",
    "# 对 seed4 进行 20% 随机采样\n",
    "# sampled_idx_seed4 = sample_indices(seed4, ratio=0.1, random_state=42)\n",
    "# seed4_sample = seed4[sampled_idx_seed4]\n",
    "# seed4_sub5_y_sample = seed4_sub5_y[sampled_idx_seed4]\n",
    "# seed4_sub5_t_sample = seed4_sub5_t[sampled_idx_seed4]"
   ]
  },
  {
   "cell_type": "code",
   "execution_count": 113,
   "id": "eaecc30e",
   "metadata": {},
   "outputs": [],
   "source": [
    "colors = [    \n",
    "    \"#FF5733\",  # 红色\n",
    "    \"#33FF57\",  # 绿色\n",
    "    \"#3357FF\",  # 蓝色\n",
    "    \"#FFEB33\",  # 黄色\n",
    "    \"#FF9F33\",  # 橙色\n",
    "    \"#9B33FF\",  # 紫色\n",
    "]"
   ]
  },
  {
   "cell_type": "code",
   "execution_count": 283,
   "id": "00198566",
   "metadata": {},
   "outputs": [
    {
     "data": {
      "image/png": "[encoded data removed]",
      "text/plain": [
       "<Figure size 500x220 with 2 Axes>"
      ]
     },
     "metadata": {},
     "output_type": "display_data"
    }
   ],
   "source": [
    "# 推荐的学术论文单栏图设置\n",
    "\n",
    "fig, axes = plt.subplots(1, 2, figsize=(5, 2.2))\n",
    "axes = axes.flatten()\n",
    "plt.subplots_adjust(bottom=0.2)\n",
    "seed3_labels = [\"Trial {}\".format(t) for t in np.unique(seed3_y1_t_sample)]\n",
    "for i, t in enumerate(np.unique(seed3_y1_t_sample)):\n",
    "    axes[0].scatter(seed3_y1_x_sample[seed3_y1_t_sample == t, 0], \n",
    "                   seed3_y1_x_sample[seed3_y1_t_sample == t, 1], \n",
    "                   color=colors[i], label=seed3_labels[i], \n",
    "                   s=6, edgecolors='none') \n",
    "\n",
    "# Legend 设置\n",
    "axes[0].legend(loc='best', fontsize=8, markerscale=1.0, \n",
    "              frameon=True, fancybox=True, shadow=False,\n",
    "              columnspacing=1.0, handletextpad=0.5)\n",
    "\n",
    "# 设置坐标轴\n",
    "axes[0].set_xticks([])\n",
    "axes[0].set_yticks([])\n",
    "\n",
    "seed4_labels = [\"Trial {}\".format(t) for t in np.unique(seed4_y0_t)]\n",
    "for i, t in enumerate(np.unique(seed4_y0_t)):\n",
    "    axes[1].scatter(seed4_y0_x[seed4_y0_t == t, 0], \n",
    "                   seed4_y0_x[seed4_y0_t == t, 1], \n",
    "                   color=colors[i], label=seed4_labels[i], \n",
    "                   s=6, edgecolors='none') \n",
    "\n",
    "# Legend 设置\n",
    "axes[1].legend(loc='best', fontsize=8, markerscale=1.0, \n",
    "              frameon=True, fancybox=True, shadow=False,\n",
    "              columnspacing=1.0, handletextpad=0.5)\n",
    "\n",
    "axes[1].set_xticks([])\n",
    "axes[1].set_yticks([])\n",
    "\n",
    "axes[0].text(0.5, -0.08, '(a) SEED - Subject 1 (Positive)', \n",
    "            transform=axes[0].transAxes, ha='center', fontsize=10.5)\n",
    "axes[1].text(0.5, -0.08, '(b) SEED-IV - Subject 5 (Positive)', \n",
    "            transform=axes[1].transAxes, ha='center', fontsize=10.5)\n",
    "plt.tight_layout()\n",
    "plt.savefig(\"01_tsne_seed3_seed4_positive.png\", bbox_inches='tight', dpi=400)  "
   ]
  },
  {
   "cell_type": "code",
   "execution_count": 163,
   "id": "22450c6a",
   "metadata": {},
   "outputs": [],
   "source": [
    "### 对不同聚类算法的对比"
   ]
  },
  {
   "cell_type": "code",
   "execution_count": 164,
   "id": "a9be4a4f",
   "metadata": {},
   "outputs": [],
   "source": [
    "seed3_sub1_x = seed3_x[seed3_s == 1]\n",
    "seed3_sub1_y = seed3_y[seed3_s == 1]\n",
    "seed3_sub1_t = seed3_t[seed3_s == 1]"
   ]
  },
  {
   "cell_type": "code",
   "execution_count": 173,
   "id": "5850f2dd",
   "metadata": {},
   "outputs": [],
   "source": [
    "from sklearn.metrics import normalized_mutual_info_score\n",
    "from sklearn.cluster import KMeans, AgglomerativeClustering, KMeans, DBSCAN, OPTICS"
   ]
  },
  {
   "cell_type": "code",
   "execution_count": 174,
   "id": "f010c9c1",
   "metadata": {},
   "outputs": [
    {
     "name": "stdout",
     "output_type": "stream",
     "text": [
      "Best K: 18, NMI: 0.8726\n"
     ]
    }
   ],
   "source": [
    "\n",
    "# 通过NMI确定最优的参数\n",
    "best_nmi = -1\n",
    "best_k = None\n",
    "best_labels = None\n",
    "\n",
    "# 尝试不同的聚类数\n",
    "for k in range(2, 20):\n",
    "    kmeans = KMeans(n_clusters=k, random_state=42)\n",
    "    cluster_labels = kmeans.fit_predict(seed3_sub1_x)\n",
    "    # NMI 与真实标签 seed4_sub5_y_sample\n",
    "    nmi = normalized_mutual_info_score(seed3_sub1_t, cluster_labels)\n",
    "    # print(f\"K={k}, NMI={nmi:.4f}\")\n",
    "    if nmi > best_nmi:\n",
    "        best_nmi = nmi\n",
    "        best_k = k\n",
    "        best_labels = cluster_labels\n",
    "\n",
    "print(f\"Best K: {best_k}, NMI: {best_nmi:.4f}\")"
   ]
  },
  {
   "cell_type": "code",
   "execution_count": 177,
   "id": "9875a124",
   "metadata": {},
   "outputs": [
    {
     "name": "stdout",
     "output_type": "stream",
     "text": [
      "Best K: 19, NMI: 0.9180\n"
     ]
    }
   ],
   "source": [
    "\n",
    "\n",
    "# 通过NMI确定最优的参数\n",
    "best_nmi = -1\n",
    "best_k = None\n",
    "best_labels = None\n",
    "\n",
    "# 尝试不同的聚类数\n",
    "for k in range(2, 20):\n",
    "    kmeans = AgglomerativeClustering(n_clusters=k)\n",
    "    cluster_labels = kmeans.fit_predict(seed3_sub1_x)\n",
    "    # NMI 与真实标签 seed4_sub5_y_sample\n",
    "    nmi = normalized_mutual_info_score(seed3_sub1_t, cluster_labels)\n",
    "    # print(f\"K={k}, NMI={nmi:.4f}\")\n",
    "    if nmi > best_nmi:\n",
    "        best_nmi = nmi\n",
    "        best_k = k\n",
    "        best_labels = cluster_labels\n",
    "\n",
    "print(f\"Best K: {best_k}, NMI: {best_nmi:.4f}\")"
   ]
  },
  {
   "cell_type": "code",
   "execution_count": 191,
   "id": "29a66059",
   "metadata": {},
   "outputs": [
    {
     "name": "stdout",
     "output_type": "stream",
     "text": [
      "Best min_samples: 18, NMI: 0.5411\n"
     ]
    }
   ],
   "source": [
    "best_nmi = -1\n",
    "best_min_samples = None\n",
    "best_labels = None\n",
    "\n",
    "# 尝试不同的 min_samples 参数\n",
    "for min_samples in range(3, 20):\n",
    "    optics = OPTICS(min_samples=min_samples)\n",
    "    cluster_labels = optics.fit_predict(seed3_sub1_x)\n",
    "    nmi = normalized_mutual_info_score(seed3_sub1_t, cluster_labels)\n",
    "    if nmi > best_nmi:\n",
    "        best_nmi = nmi\n",
    "        best_min_samples = min_samples\n",
    "        best_labels = cluster_labels\n",
    "\n",
    "print(f\"Best min_samples: {best_min_samples}, NMI: {best_nmi:.4f}\")"
   ]
  },
  {
   "cell_type": "code",
   "execution_count": 285,
   "id": "8cebfa07",
   "metadata": {},
   "outputs": [
    {
     "data": {
      "image/png": "[encoded data removed]",
      "text/plain": [
       "<Figure size 500x500 with 4 Axes>"
      ]
     },
     "metadata": {},
     "output_type": "display_data"
    }
   ],
   "source": [
    "\n",
    "# Perform t-SNE for dimensionality reduction\n",
    "tsne = TSNE(n_components=2, init=\"pca\", perplexity = 50, random_state=42)\n",
    "data_2d = tsne.fit_transform(seed3_sub1_x)\n",
    "\n",
    "# Create subplots for visualization\n",
    "from matplotlib.lines import Line2D\n",
    "# Define clustering methods\n",
    "clustering_methods = {\n",
    "    \"(a) KMeans (NMI=0.873)\": KMeans(n_clusters=18, random_state=42),\n",
    "    \"(b) Agglomerative (NMI=0.918)\": AgglomerativeClustering(n_clusters=19),\n",
    "    \"(c) DBSCAN (NMI=1)\": DBSCAN(eps=1, min_samples=5),\n",
    "    \"(d) OPTICS (NMI=0.541)\": OPTICS(min_samples=18),\n",
    "}\n",
    "labels = [\"Negative\", \"Neutral\", \"Positive\"]\n",
    "sample_size = int(data_2d.shape[0] * 0.1)\n",
    "np.random.seed(42)  # For reproducibility\n",
    "sampled_indices = np.random.choice(np.arange(data_2d.shape[0]), sample_size, replace=False)\n",
    "\n",
    "fig, axes = plt.subplots(2, 2, figsize=(5, 5))\n",
    "fig.subplots_adjust(wspace=0.15, hspace=0.2)  # Adjust spacing between subplots\n",
    "# Define 15 distinguishable colors\n",
    "colors = [\n",
    "    \"#FF5733\",  # 红色\n",
    "    \"#33FF57\",  # 绿色\n",
    "    \"#3357FF\",  # 蓝色\n",
    "    \"#FFEB33\",  # 黄色\n",
    "    \"#FF9F33\",  # 橙色\n",
    "    \"#9B33FF\",  # 紫色\n",
    "    \"#FF33B8\",  # 粉色\n",
    "    \"#33FFF5\",  # 青色\n",
    "    \"#8B0000\",  # 深红色\n",
    "    \"#006400\",  # 深绿色\n",
    "    \"#00008B\",  # 深蓝色\n",
    "    \"#800080\",  # 深紫色\n",
    "    \"#FF0080\",  # 橙黄色\n",
    "    \"#D2691E\",  # 巧克力色\n",
    "    \"#A9A9A9\"   # 深灰色\n",
    "]\n",
    "\n",
    "legend_elements = [\n",
    "    Line2D([0], [0], marker=markers[i], color='w', \n",
    "           markerfacecolor='gray', markersize=6, \n",
    "           markeredgecolor='white', markeredgewidth=0.3,\n",
    "           label=labels[i], linestyle='None') \n",
    "    for i in range(3)\n",
    "]\n",
    "\n",
    "for ax, (name, method) in zip(axes.flatten(), clustering_methods.items()):\n",
    "    clusters = method.fit_predict(seed3_sub1_x)\n",
    "    unique_clusters = np.unique(clusters)\n",
    "    # print(len(unique_clusters))\n",
    "    sample_x = data_2d[sampled_indices]\n",
    "    sample_c = clusters[sampled_indices]\n",
    "    sample_y = seed3_sub1_y[sampled_indices]\n",
    "    markers = ['o', 's', '^']  # Define markers for different sample_y values\n",
    "    for cluster in unique_clusters:  \n",
    "        cluster_indices = np.where(sample_c == cluster)\n",
    "        for y_value in np.unique(sample_y[cluster_indices]):\n",
    "            y_indices = np.where(sample_y[cluster_indices] == y_value)\n",
    "            ax.scatter(\n",
    "                sample_x[cluster_indices][y_indices, 0], \n",
    "                sample_x[cluster_indices][y_indices, 1], \n",
    "                facecolors=colors[cluster % len(colors)], \n",
    "                # linewidths=0.2,  # Set the edge thickness\n",
    "                s=10, \n",
    "                marker=markers[y_value % len(markers)],\n",
    "            )\n",
    "    ax.legend(handles=legend_elements, loc='lower right', fontsize=8)\n",
    "    ax.set_xlabel(name, fontsize=10)\n",
    "    ax.set_xticks([])\n",
    "    ax.set_yticks([])\n",
    "\n",
    "plt.tight_layout()\n",
    "plt.savefig('02_Capture_Intra-individual.png', dpi=300, bbox_inches='tight')"
   ]
  },
  {
   "cell_type": "code",
   "execution_count": 2,
   "id": "110aa045",
   "metadata": {},
   "outputs": [],
   "source": [
    "import os\n",
    "import re"
   ]
  },
  {
   "cell_type": "code",
   "execution_count": 4,
   "id": "e5eef7c8",
   "metadata": {},
   "outputs": [
    {
     "name": "stdout",
     "output_type": "stream",
     "text": [
      "DBPM: 94.86 / 06.43  (95.42/06.05, 94.66/06.03, 94.51/07.10)\n",
      "WithOutPLLoss: 85.59 / 06.99  (87.70/04.77, 83.80/08.35, 85.28/06.83)\n",
      "WithOutPM: 86.32 / 08.41  (88.46/05.66, 83.69/10.00, 86.80/08.28)\n",
      "WithOutPretrain: 93.09 / 07.86  (92.36/07.16, 93.15/06.83, 93.75/09.30)\n",
      "WithOutSSTS: 88.80 / 07.69  (91.11/05.06, 85.51/08.61, 89.77/07.78)\n",
      "WithOutTransferLoss: 83.83 / 09.46  (84.92/04.30, 84.79/08.79, 81.76/12.89)\n"
     ]
    }
   ],
   "source": [
    "seed_dirs = [\n",
    "    r'.\\\\logs\\\\seed3_1_none',\n",
    "    r'.\\\\logs\\\\seed3_2_none',\n",
    "    r'.\\\\logs\\\\seed3_3_none'\n",
    "]\n",
    "\n",
    "method_acc_dict = {}\n",
    "for root_dir in seed_dirs:\n",
    "    # average_last_value = []\n",
    "    for folder in os.listdir(root_dir):\n",
    "        folder_path = os.path.join(root_dir, folder)\n",
    "        \n",
    "        mean_acc_path = os.path.join(folder_path, 'mean_acc.txt')\n",
    "        if os.path.exists(mean_acc_path):\n",
    "            with open(mean_acc_path, 'r', encoding='gbk') as f:\n",
    "                for line in f:\n",
    "                    match = re.search(r'target:\\s*([\\d\\.]+), best_acc:\\s*([\\d\\.]+)', line)\n",
    "                    if match:\n",
    "                        subject_id = int(match.group(1))\n",
    "                        best_acc = float(match.group(2))\n",
    "                        # print(f\"Subject ID: {subject_id}, Best Acc: {best_acc:.2f}, Time: {time_sec:.2f}s\")\n",
    "                        method_acc_dict.setdefault(folder, []).append(best_acc)\n",
    "for method, accs in method_acc_dict.items():\n",
    "    accs = np.array(accs)\n",
    "    session1_acc = accs[:15]\n",
    "    session2_acc = accs[15:30] if len(accs) > 15 else np.array([])\n",
    "    session3_acc = accs[-15:] if len(accs) > 30 else np.array([])\n",
    "    print(f\"{method}: {np.mean(accs):.2f} / {np.std(accs):05.2f}  ({np.mean(session1_acc):.2f}/{np.std(session1_acc):05.2f}, {np.mean(session2_acc):.2f}/{np.std(session2_acc):05.2f}, {np.mean(session3_acc):.2f}/{np.std(session3_acc):05.2f})\")\n"
   ]
  },
  {
   "cell_type": "code",
   "execution_count": 6,
   "id": "3b20f4f1",
   "metadata": {},
   "outputs": [
    {
     "name": "stdout",
     "output_type": "stream",
     "text": [
      "DBPM: 78.90 / 09.71  (76.39/10.51, 80.54/08.97, 79.76/09.08)\n",
      "WithOutPLLoss: 78.06 / 10.16  (74.91/09.85, 79.90/10.04, 79.36/09.84)\n",
      "WithOutPM: 75.27 / 10.67  (72.90/09.32, 77.74/09.38, 75.17/12.44)\n",
      "WithOutPretrain: 77.48 / 10.33  (75.81/09.94, 79.56/09.21, 77.07/11.36)\n",
      "WithOutSSTS: 74.21 / 10.82  (71.24/11.34, 75.73/08.78, 75.65/11.51)\n",
      "WithOutTransferLoss: 70.92 / 11.10  (69.90/10.94, 71.36/09.78, 71.51/12.34)\n"
     ]
    }
   ],
   "source": [
    "seed_dirs = [\n",
    "    r'.\\\\logs\\\\seed4_1_none',\n",
    "    r'.\\\\logs\\\\seed4_2_none',\n",
    "    r'.\\\\logs\\\\seed4_3_none'\n",
    "]\n",
    "\n",
    "method_acc_dict = {}\n",
    "for root_dir in seed_dirs:\n",
    "    # average_last_value = []\n",
    "    for folder in os.listdir(root_dir):\n",
    "        folder_path = os.path.join(root_dir, folder)\n",
    "        \n",
    "        mean_acc_path = os.path.join(folder_path, 'mean_acc.txt')\n",
    "        if os.path.exists(mean_acc_path):\n",
    "            with open(mean_acc_path, 'r', encoding='gbk') as f:\n",
    "                for line in f:\n",
    "                    match = re.search(r'target:\\s*([\\d\\.]+), best_acc:\\s*([\\d\\.]+)', line)\n",
    "                    if match:\n",
    "                        subject_id = int(match.group(1))\n",
    "                        best_acc = float(match.group(2))\n",
    "                        # print(f\"Subject ID: {subject_id}, Best Acc: {best_acc:.2f}, Time: {time_sec:.2f}s\")\n",
    "                        method_acc_dict.setdefault(folder, []).append(best_acc)\n",
    "for method, accs in method_acc_dict.items():\n",
    "    accs = np.array(accs)\n",
    "    session1_acc = accs[:15]\n",
    "    session2_acc = accs[15:30] if len(accs) > 15 else np.array([])\n",
    "    session3_acc = accs[-15:] if len(accs) > 30 else np.array([])\n",
    "    print(f\"{method}: {np.mean(accs):.2f} / {np.std(accs):05.2f}  ({np.mean(session1_acc):.2f}/{np.std(session1_acc):05.2f}, {np.mean(session2_acc):.2f}/{np.std(session2_acc):05.2f}, {np.mean(session3_acc):.2f}/{np.std(session3_acc):05.2f})\")"
   ]
  },
  {
   "cell_type": "code",
   "execution_count": null,
   "id": "dc7fed88",
   "metadata": {},
   "outputs": [],
   "source": []
  }
 ],
 "metadata": {
  "kernelspec": {
   "display_name": "wqtorch",
   "language": "python",
   "name": "python3"
  },
  "language_info": {
   "codemirror_mode": {
    "name": "ipython",
    "version": 3
   },
   "file_extension": ".py",
   "mimetype": "text/x-python",
   "name": "python",
   "nbconvert_exporter": "python",
   "pygments_lexer": "ipython3",
   "version": "3.12.9"
  }
 },
 "nbformat": 4,
 "nbformat_minor": 5
}
